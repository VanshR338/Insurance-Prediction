{
 "cells": [
  {
   "cell_type": "code",
   "execution_count": 65,
   "id": "62cf5302-ee10-482e-b180-d59fcd1bd951",
   "metadata": {},
   "outputs": [],
   "source": [
    "import numpy as np\n",
    "import pandas as pd\n",
    "import matplotlib.pyplot as plt\n",
    "import seaborn as sns\n",
    "%matplotlib inline\n",
    "import warnings\n",
    "warnings.filterwarnings(\"ignore\")"
   ]
  },
  {
   "cell_type": "code",
   "execution_count": 66,
   "id": "deebd8f2-33b8-4948-8920-31177e77c5ba",
   "metadata": {},
   "outputs": [
    {
     "data": {
      "text/plain": [
       "(1338, 7)"
      ]
     },
     "execution_count": 66,
     "metadata": {},
     "output_type": "execute_result"
    }
   ],
   "source": [
    "df = pd.read_csv('insurance.csv')\n",
    "df.shape"
   ]
  },
  {
   "cell_type": "code",
   "execution_count": 67,
   "id": "eafd4a9c-e60b-4b8e-8ac0-33cb65cb0ca5",
   "metadata": {},
   "outputs": [
    {
     "data": {
      "text/html": [
       "<div>\n",
       "<style scoped>\n",
       "    .dataframe tbody tr th:only-of-type {\n",
       "        vertical-align: middle;\n",
       "    }\n",
       "\n",
       "    .dataframe tbody tr th {\n",
       "        vertical-align: top;\n",
       "    }\n",
       "\n",
       "    .dataframe thead th {\n",
       "        text-align: right;\n",
       "    }\n",
       "</style>\n",
       "<table border=\"1\" class=\"dataframe\">\n",
       "  <thead>\n",
       "    <tr style=\"text-align: right;\">\n",
       "      <th></th>\n",
       "      <th>age</th>\n",
       "      <th>sex</th>\n",
       "      <th>bmi</th>\n",
       "      <th>children</th>\n",
       "      <th>smoker</th>\n",
       "      <th>region</th>\n",
       "      <th>expenses</th>\n",
       "    </tr>\n",
       "  </thead>\n",
       "  <tbody>\n",
       "    <tr>\n",
       "      <th>0</th>\n",
       "      <td>19</td>\n",
       "      <td>female</td>\n",
       "      <td>27.9</td>\n",
       "      <td>0</td>\n",
       "      <td>yes</td>\n",
       "      <td>southwest</td>\n",
       "      <td>16884.92</td>\n",
       "    </tr>\n",
       "    <tr>\n",
       "      <th>1</th>\n",
       "      <td>18</td>\n",
       "      <td>male</td>\n",
       "      <td>33.8</td>\n",
       "      <td>1</td>\n",
       "      <td>no</td>\n",
       "      <td>southeast</td>\n",
       "      <td>1725.55</td>\n",
       "    </tr>\n",
       "    <tr>\n",
       "      <th>2</th>\n",
       "      <td>28</td>\n",
       "      <td>male</td>\n",
       "      <td>33.0</td>\n",
       "      <td>3</td>\n",
       "      <td>no</td>\n",
       "      <td>southeast</td>\n",
       "      <td>4449.46</td>\n",
       "    </tr>\n",
       "    <tr>\n",
       "      <th>3</th>\n",
       "      <td>33</td>\n",
       "      <td>male</td>\n",
       "      <td>22.7</td>\n",
       "      <td>0</td>\n",
       "      <td>no</td>\n",
       "      <td>northwest</td>\n",
       "      <td>21984.47</td>\n",
       "    </tr>\n",
       "    <tr>\n",
       "      <th>4</th>\n",
       "      <td>32</td>\n",
       "      <td>male</td>\n",
       "      <td>28.9</td>\n",
       "      <td>0</td>\n",
       "      <td>no</td>\n",
       "      <td>northwest</td>\n",
       "      <td>3866.86</td>\n",
       "    </tr>\n",
       "  </tbody>\n",
       "</table>\n",
       "</div>"
      ],
      "text/plain": [
       "   age     sex   bmi  children smoker     region  expenses\n",
       "0   19  female  27.9         0    yes  southwest  16884.92\n",
       "1   18    male  33.8         1     no  southeast   1725.55\n",
       "2   28    male  33.0         3     no  southeast   4449.46\n",
       "3   33    male  22.7         0     no  northwest  21984.47\n",
       "4   32    male  28.9         0     no  northwest   3866.86"
      ]
     },
     "execution_count": 67,
     "metadata": {},
     "output_type": "execute_result"
    }
   ],
   "source": [
    "df.head()"
   ]
  },
  {
   "cell_type": "code",
   "execution_count": 68,
   "id": "435a5b0c-d018-4302-bc87-27a8c53e2c56",
   "metadata": {},
   "outputs": [
    {
     "name": "stdout",
     "output_type": "stream",
     "text": [
      "<class 'pandas.core.frame.DataFrame'>\n",
      "RangeIndex: 1338 entries, 0 to 1337\n",
      "Data columns (total 7 columns):\n",
      " #   Column    Non-Null Count  Dtype  \n",
      "---  ------    --------------  -----  \n",
      " 0   age       1338 non-null   int64  \n",
      " 1   sex       1338 non-null   object \n",
      " 2   bmi       1338 non-null   float64\n",
      " 3   children  1338 non-null   int64  \n",
      " 4   smoker    1338 non-null   object \n",
      " 5   region    1338 non-null   object \n",
      " 6   expenses  1338 non-null   float64\n",
      "dtypes: float64(2), int64(2), object(3)\n",
      "memory usage: 73.3+ KB\n"
     ]
    }
   ],
   "source": [
    "df.info()"
   ]
  },
  {
   "cell_type": "code",
   "execution_count": 69,
   "id": "dc8d714b-f5d8-41a2-8d46-b05ddd63867e",
   "metadata": {},
   "outputs": [
    {
     "data": {
      "text/plain": [
       "age         0\n",
       "sex         0\n",
       "bmi         0\n",
       "children    0\n",
       "smoker      0\n",
       "region      0\n",
       "expenses    0\n",
       "dtype: int64"
      ]
     },
     "execution_count": 69,
     "metadata": {},
     "output_type": "execute_result"
    }
   ],
   "source": [
    "df.isnull().sum()"
   ]
  },
  {
   "cell_type": "code",
   "execution_count": 70,
   "id": "d0c93f61-4c57-404a-8bbf-9d349536e4a5",
   "metadata": {},
   "outputs": [],
   "source": [
    "from sklearn.preprocessing import LabelEncoder\n",
    "le = LabelEncoder()\n",
    "\n",
    "df['sex'] = le.fit_transform(df['sex'])\n",
    "\n",
    "df['smoker'] = le.fit_transform(df['smoker'])\n",
    "\n",
    "df['region'] = le.fit_transform(df['region'])"
   ]
  },
  {
   "cell_type": "code",
   "execution_count": 71,
   "id": "06fc98bc-f00a-499c-b74e-65038c17bad4",
   "metadata": {},
   "outputs": [
    {
     "data": {
      "text/html": [
       "<div>\n",
       "<style scoped>\n",
       "    .dataframe tbody tr th:only-of-type {\n",
       "        vertical-align: middle;\n",
       "    }\n",
       "\n",
       "    .dataframe tbody tr th {\n",
       "        vertical-align: top;\n",
       "    }\n",
       "\n",
       "    .dataframe thead th {\n",
       "        text-align: right;\n",
       "    }\n",
       "</style>\n",
       "<table border=\"1\" class=\"dataframe\">\n",
       "  <thead>\n",
       "    <tr style=\"text-align: right;\">\n",
       "      <th></th>\n",
       "      <th>age</th>\n",
       "      <th>sex</th>\n",
       "      <th>bmi</th>\n",
       "      <th>children</th>\n",
       "      <th>smoker</th>\n",
       "      <th>region</th>\n",
       "      <th>expenses</th>\n",
       "    </tr>\n",
       "  </thead>\n",
       "  <tbody>\n",
       "    <tr>\n",
       "      <th>0</th>\n",
       "      <td>19</td>\n",
       "      <td>0</td>\n",
       "      <td>27.9</td>\n",
       "      <td>0</td>\n",
       "      <td>1</td>\n",
       "      <td>3</td>\n",
       "      <td>16884.92</td>\n",
       "    </tr>\n",
       "    <tr>\n",
       "      <th>1</th>\n",
       "      <td>18</td>\n",
       "      <td>1</td>\n",
       "      <td>33.8</td>\n",
       "      <td>1</td>\n",
       "      <td>0</td>\n",
       "      <td>2</td>\n",
       "      <td>1725.55</td>\n",
       "    </tr>\n",
       "    <tr>\n",
       "      <th>2</th>\n",
       "      <td>28</td>\n",
       "      <td>1</td>\n",
       "      <td>33.0</td>\n",
       "      <td>3</td>\n",
       "      <td>0</td>\n",
       "      <td>2</td>\n",
       "      <td>4449.46</td>\n",
       "    </tr>\n",
       "    <tr>\n",
       "      <th>3</th>\n",
       "      <td>33</td>\n",
       "      <td>1</td>\n",
       "      <td>22.7</td>\n",
       "      <td>0</td>\n",
       "      <td>0</td>\n",
       "      <td>1</td>\n",
       "      <td>21984.47</td>\n",
       "    </tr>\n",
       "    <tr>\n",
       "      <th>4</th>\n",
       "      <td>32</td>\n",
       "      <td>1</td>\n",
       "      <td>28.9</td>\n",
       "      <td>0</td>\n",
       "      <td>0</td>\n",
       "      <td>1</td>\n",
       "      <td>3866.86</td>\n",
       "    </tr>\n",
       "  </tbody>\n",
       "</table>\n",
       "</div>"
      ],
      "text/plain": [
       "   age  sex   bmi  children  smoker  region  expenses\n",
       "0   19    0  27.9         0       1       3  16884.92\n",
       "1   18    1  33.8         1       0       2   1725.55\n",
       "2   28    1  33.0         3       0       2   4449.46\n",
       "3   33    1  22.7         0       0       1  21984.47\n",
       "4   32    1  28.9         0       0       1   3866.86"
      ]
     },
     "execution_count": 71,
     "metadata": {},
     "output_type": "execute_result"
    }
   ],
   "source": [
    "df.head()"
   ]
  },
  {
   "cell_type": "code",
   "execution_count": 72,
   "id": "7c2331f2-a8bf-42e1-a328-43a977435eec",
   "metadata": {},
   "outputs": [
    {
     "name": "stdout",
     "output_type": "stream",
     "text": [
      "Index(['age', 'sex', 'bmi', 'children', 'smoker', 'region', 'expenses'], dtype='object')\n"
     ]
    }
   ],
   "source": [
    "print(df.columns)"
   ]
  },
  {
   "cell_type": "code",
   "execution_count": 73,
   "id": "cee653ee-491f-4fc7-ae9a-69dab9a91016",
   "metadata": {},
   "outputs": [],
   "source": [
    "import numpy as np\n",
    "from sklearn.datasets import make_regression\n",
    "X, y = make_regression(n_samples=100, n_features=6, noise=0.1, random_state=42)\n",
    "from sklearn.model_selection import train_test_split\n",
    "x_train, x_test, y_train, y_test = train_test_split(X, y, test_size=0.2, random_state=10)"
   ]
  },
  {
   "cell_type": "code",
   "execution_count": 74,
   "id": "fff42e7b-4bdd-41c1-9368-5a3f66efe628",
   "metadata": {},
   "outputs": [
    {
     "data": {
      "text/plain": [
       "array([[-0.75635075,  0.20346364, -1.42225371, -0.12791759, -0.95554044,\n",
       "        -1.60644632],\n",
       "       [ 1.8861859 ,  0.40405086,  0.17457781, -0.34271452, -0.80227727,\n",
       "        -0.16128571],\n",
       "       [-0.00797264,  0.88163976,  1.47994414, -0.64657288, -1.081548  ,\n",
       "         1.68714164],\n",
       "       [-0.1517851 , -1.9520878 ,  0.58831721,  1.58601682, -1.2378155 ,\n",
       "         2.13303337],\n",
       "       [ 0.0675282 , -0.2257763 , -1.42474819, -0.90802408, -1.4123037 ,\n",
       "         1.46564877],\n",
       "       [ 0.58685709, -1.40185106,  2.19045563,  0.79103195, -0.90938745,\n",
       "         1.40279431],\n",
       "       [-0.5297602 ,  0.32875111,  0.51326743, -0.8084936 , -0.50175704,\n",
       "         0.91540212],\n",
       "       [-0.51386692, -0.93987979, -1.05921352, -1.3044695 ,  0.66967255,\n",
       "         0.36659825],\n",
       "       [-1.39856757,  1.90941664,  0.56296924, -0.87561825, -1.38279973,\n",
       "         0.92617755],\n",
       "       [ 3.07888081,  0.31125015,  1.11957491,  1.64496771, -0.24903604,\n",
       "         0.57655696],\n",
       "       [-0.53025762,  0.50404652, -0.79287283, -0.0626791 ,  0.95514232,\n",
       "        -0.98572605],\n",
       "       [ 0.02451017, -0.77300978,  0.49799829,  0.22409248,  0.0125924 ,\n",
       "         0.0976761 ],\n",
       "       [-0.48760622, -0.41187697, -0.43255819,  1.16778206,  0.25442084,\n",
       "         0.33760266],\n",
       "       [ 0.82254491, -1.05771093, -1.22084365, -0.60170661,  1.85227818,\n",
       "        -0.01349722],\n",
       "       [ 1.00629281, -0.38455554, -0.57689187, -0.65183611,  0.04739867,\n",
       "        -0.86041337],\n",
       "       [-0.46341769,  0.54256004, -0.46572975,  1.57921282,  0.76743473,\n",
       "        -0.46947439],\n",
       "       [ 0.33126343, -0.30921238,  0.97554513,  1.03099952,  0.93128012,\n",
       "        -0.83921752],\n",
       "       [-1.62754244, -1.8048821 ,  0.04808495, -0.66262376,  0.57059867,\n",
       "        -0.76325916],\n",
       "       [-1.53411417, -1.12464209,  1.27767682,  0.12029563,  0.51443883,\n",
       "         0.71161488],\n",
       "       [ 0.69014399,  0.40171172, -0.40122047,  0.51934651,  1.53273891,\n",
       "        -0.10876015],\n",
       "       [ 0.81286212,  0.30729952,  0.62962884,  0.35701549, -0.6929096 ,\n",
       "         0.89959988],\n",
       "       [-0.44429326, -0.97876372,  0.37730049,  1.03753994, -0.5100164 ,\n",
       "        -0.26987494],\n",
       "       [ 1.47789404,  0.35711257, -0.51827022,  0.09176078, -1.98756891,\n",
       "        -0.21967189],\n",
       "       [-1.87079192, -1.00808631, -0.35151348,  1.20121392, -0.40807537,\n",
       "        -2.03812454],\n",
       "       [-0.44004449, -1.43014138,  0.13074058, -0.25256815, -1.24778318,\n",
       "         1.6324113 ],\n",
       "       [ 1.17944012,  1.83145877, -0.46917565, -0.89841467,  0.49191917,\n",
       "        -1.32023321],\n",
       "       [-2.12389572, -0.59939265, -0.52575502,  2.18980293, -0.80829829,\n",
       "        -0.83972184],\n",
       "       [-0.4593609 ,  0.24822059, -0.84984437,  0.63278187,  2.27069286,\n",
       "         0.18186626],\n",
       "       [-0.66178646,  0.18645431,  0.85243333,  2.14394409,  0.63391902,\n",
       "        -2.02514259],\n",
       "       [ 0.51504769,  0.51378595,  3.85273149, -1.37766937, -0.93782504,\n",
       "         0.51503527],\n",
       "       [ 0.85765962,  1.47535622, -0.15993853, -0.71844422, -0.21344715,\n",
       "         0.31090757],\n",
       "       [ 0.06428002,  1.0889506 , -1.07774478,  0.68626019, -1.61271587,\n",
       "        -0.47193187],\n",
       "       [ 2.31465857,  0.08187414, -1.86726519, -0.77282521, -0.23681861,\n",
       "        -0.48536355],\n",
       "       [-0.60063869,  0.37569802, -0.29169375, -0.54438272,  0.11092259,\n",
       "        -1.15099358],\n",
       "       [-0.8222204 , -0.56372455,  0.24368721, -0.8254972 , -0.32138584,\n",
       "         0.41293145],\n",
       "       [ 0.08658979, -0.60398519, -0.15567724,  0.57707213, -0.20304539,\n",
       "         0.37114587],\n",
       "       [ 0.8711247 ,  2.0754008 , -0.32602353,  0.39445214, -0.42098448,\n",
       "         0.28977486],\n",
       "       [-1.66940528,  0.75138712,  0.54336019,  0.50091719, -0.97755524,\n",
       "         0.09933231],\n",
       "       [ 0.6141667 , -0.2209696 ,  0.75750771, -0.69972551,  0.21397991,\n",
       "        -0.11232805],\n",
       "       [ 1.17929718,  0.11567463,  0.06751848,  0.33231401, -0.74848654,\n",
       "         1.55115198],\n",
       "       [-0.02090159,  0.61037027,  0.11732738, -0.82899501, -0.56018104,\n",
       "         0.74729361],\n",
       "       [ 0.32271856, -0.28865864, -0.82723094, -0.01901621, -1.00252936,\n",
       "        -0.01851314],\n",
       "       [-1.60748323,  1.30714275,  0.18463386,  0.81351722, -1.23086432,\n",
       "         0.22745993],\n",
       "       [ 0.68195297,  0.02100384, -0.31026676,  0.82541635,  0.81350964,\n",
       "         1.30547881],\n",
       "       [-0.81822068,  0.59515703,  2.09238728,  0.32416635, -0.13014305,\n",
       "         0.09699596],\n",
       "       [ 0.11351735, -0.3853136 ,  0.66213067,  0.1990597 , -0.60021688,\n",
       "         0.06980208],\n",
       "       [-0.26465683,  1.45353408,  2.72016917,  0.2766908 ,  0.82718325,\n",
       "         0.01300189],\n",
       "       [-1.18325851, -1.75873949, -2.03923218, -0.96492346,  0.68605146,\n",
       "         1.05842449],\n",
       "       [-0.44651495, -1.51484722,  0.85639879,  0.47323762, -0.07282891,\n",
       "        -0.84679372],\n",
       "       [-1.41537074, -0.23458713, -0.42064532,  0.29612028,  0.26105527,\n",
       "         0.00511346],\n",
       "       [ 0.64537595,  0.97157095,  1.36863156,  2.06074792,  1.75534084,\n",
       "        -0.24896415],\n",
       "       [ 0.82940558, -0.21910053, -2.21113531,  0.01841838,  1.67643731,\n",
       "         0.32692737],\n",
       "       [ 1.96472513, -1.19787789,  0.03526355, -0.10703036, -1.03524232,\n",
       "        -0.55364931],\n",
       "       [ 0.29307247,  0.2322537 , -0.71435142,  0.25049285,  0.34644821,\n",
       "        -0.68002472],\n",
       "       [-1.01283112, -0.56228753,  0.31424733,  0.24196227, -1.91328024,\n",
       "        -1.72491783],\n",
       "       [ 1.14282281, -1.16867804,  0.75193303, -0.19236096,  0.30154734,\n",
       "        -0.03471177],\n",
       "       [-1.26088395,  0.40498171,  0.91786195, -0.47494531, -0.65332923,\n",
       "         1.76545424],\n",
       "       [-1.55066343, -0.50347565,  0.06856297, -0.99053633, -0.56629773,\n",
       "         0.09965137],\n",
       "       [-2.4716445 ,  1.44156862, -0.79689526,  0.83569211, -1.12970685,\n",
       "         0.52980418],\n",
       "       [ 0.62411982,  0.79166269,  0.62834551, -1.00601738, -1.21418861,\n",
       "         1.15811087],\n",
       "       [-1.59442766,  1.23781631, -0.59937502, -1.71313453,  1.35387237,\n",
       "        -0.11453985],\n",
       "       [ 1.62861555,  0.07409478, -1.38010146, -0.26940683,  0.71754226,\n",
       "         1.50235705],\n",
       "       [ 0.47897983, -0.47765745,  0.33366211,  0.83033582, -0.85608383,\n",
       "         0.07156624],\n",
       "       [ 0.81252582, -1.19620662,  1.35624003, -0.47917424, -0.18565898,\n",
       "        -1.10633497],\n",
       "       [-1.06762043,  0.62284993, -0.14237949,  0.0052437 ,  0.04698059,\n",
       "        -0.45006547],\n",
       "       [-0.97468167,  0.65655361,  0.7870846 ,  1.86577451,  0.47383292,\n",
       "        -1.1913035 ],\n",
       "       [ 0.08704707,  0.8219025 , -0.29900735, -0.03582604,  1.56464366,\n",
       "        -2.6197451 ],\n",
       "       [ 0.95042384,  1.87617084, -0.57690366, -0.75913266,  0.15039379,\n",
       "         0.34175598],\n",
       "       [ 1.26691115, -0.48423407, -0.70766947,  2.1221562 ,  1.03246526,\n",
       "        -1.51936997],\n",
       "       [ 0.82206016,  0.41278093,  1.89679298,  1.15859558, -0.82068232,\n",
       "         0.96337613],\n",
       "       [-0.98150865,  0.01023306,  0.46210347,  1.44127329, -1.43586215,\n",
       "         1.16316375],\n",
       "       [-0.07710171, -0.81581028,  0.34115197, -0.24538812, -0.75373616,\n",
       "        -0.88951443],\n",
       "       [-0.58936476, -0.49300093,  0.8496021 ,  0.28099187, -0.62269952,\n",
       "        -0.20812225],\n",
       "       [ 0.33849641,  1.14375404, -0.41528791,  0.23561456,  0.77086519,\n",
       "        -1.47858625],\n",
       "       [-3.24126734, -0.05952536, -1.02438764,  0.44381943,  0.77463405,\n",
       "        -0.92693047],\n",
       "       [-2.0674421 , -0.03269475, -0.08912004, -1.70338244, -0.0555477 ,\n",
       "         0.38406545],\n",
       "       [-0.2176812 , -0.20219265,  1.09877685,  1.2776649 , -0.59157139,\n",
       "         0.54709738],\n",
       "       [-1.51519106, -2.30192116,  1.36687427, -0.53050115, -0.57581824,\n",
       "        -0.2750517 ],\n",
       "       [ 0.06023021, -0.02651388,  2.46324211,  0.25755039, -0.07444592,\n",
       "        -1.91877122],\n",
       "       [-1.03724615,  0.53891004, -0.19033868,  0.07736831, -0.8612842 ,\n",
       "         1.52312408]])"
      ]
     },
     "execution_count": 74,
     "metadata": {},
     "output_type": "execute_result"
    }
   ],
   "source": [
    "x_train"
   ]
  },
  {
   "cell_type": "code",
   "execution_count": 75,
   "id": "de037fc3-f71a-42c4-94ef-cb9484ce7d82",
   "metadata": {},
   "outputs": [
    {
     "name": "stdout",
     "output_type": "stream",
     "text": [
      "0.9999995954158137\n",
      "0.9999990330116492\n"
     ]
    }
   ],
   "source": [
    "from sklearn.linear_model import LinearRegression\n",
    "from sklearn.metrics import accuracy_score\n",
    "\n",
    "lr=LinearRegression()\n",
    "lr.fit(x_train,y_train)\n",
    "x_train_predict=lr.predict(x_train)\n",
    "x_test_predict=lr.predict(x_test)\n",
    "print(lr.score(x_train, y_train))\n",
    "print(lr.score(x_test, y_test))"
   ]
  },
  {
   "cell_type": "code",
   "execution_count": 76,
   "id": "2223d536-2cf0-4b30-9d90-ace52e485635",
   "metadata": {},
   "outputs": [
    {
     "data": {
      "text/plain": [
       "0.9999995954158137"
      ]
     },
     "execution_count": 76,
     "metadata": {},
     "output_type": "execute_result"
    }
   ],
   "source": [
    "from sklearn.metrics import r2_score,mean_squared_error,mean_absolute_error\n",
    "train_Score=r2_score(y_train,x_train_predict)\n",
    "train_Score"
   ]
  },
  {
   "cell_type": "code",
   "execution_count": 77,
   "id": "4b4a875d-1c13-4e9a-9eb3-c95ddf2bf776",
   "metadata": {},
   "outputs": [
    {
     "data": {
      "text/plain": [
       "0.9999990330116492"
      ]
     },
     "execution_count": 77,
     "metadata": {},
     "output_type": "execute_result"
    }
   ],
   "source": [
    "train_score=r2_score(y_test,x_test_predict)\n",
    "train_score"
   ]
  },
  {
   "cell_type": "code",
   "execution_count": 78,
   "id": "07ad719a-b652-436f-9235-a1fe133a1d99",
   "metadata": {},
   "outputs": [
    {
     "name": "stdout",
     "output_type": "stream",
     "text": [
      "0.6641246266648053\n",
      "0.9528923270887348\n"
     ]
    }
   ],
   "source": [
    "from sklearn.ensemble import RandomForestRegressor\n",
    "\n",
    "rfr=RandomForestRegressor()\n",
    "rfr.fit(x_train,y_train)\n",
    "prediction=rfr.predict(x_test)\n",
    "\n",
    "print(rfr.score(x_test,y_test))\n",
    "print(rfr.score(x_train,y_train))"
   ]
  },
  {
   "cell_type": "code",
   "execution_count": 79,
   "id": "0f923c0c-86f2-4926-b59b-df6990d9ee9b",
   "metadata": {},
   "outputs": [
    {
     "data": {
      "text/plain": [
       "0.6641246266648053"
      ]
     },
     "execution_count": 79,
     "metadata": {},
     "output_type": "execute_result"
    }
   ],
   "source": [
    "from sklearn .metrics import r2_score\n",
    "r2_score(y_test,prediction)"
   ]
  },
  {
   "cell_type": "code",
   "execution_count": 80,
   "id": "d10d5e59-4cb1-42e4-b5ff-09ddcc535fb3",
   "metadata": {},
   "outputs": [
    {
     "data": {
      "text/plain": [
       "0.02183516136048891"
      ]
     },
     "execution_count": 80,
     "metadata": {},
     "output_type": "execute_result"
    }
   ],
   "source": [
    "from sklearn.svm import SVR\n",
    "\n",
    "svm = SVR()\n",
    "svm.fit(x_train,y_train)\n",
    "prediction = svm.predict(x_test)\n",
    "\n",
    "r2_score(y_test,prediction)"
   ]
  },
  {
   "cell_type": "code",
   "execution_count": 81,
   "id": "c633d23b-4a3b-4e4d-94fc-15dff7176505",
   "metadata": {},
   "outputs": [
    {
     "name": "stdout",
     "output_type": "stream",
     "text": [
      "Current working directory: C:\\Users\\DELL\n"
     ]
    }
   ],
   "source": [
    "import joblib\n",
    "joblib.dump(rfr,'model_joblib_test')\n",
    "rfr = joblib.load('model_joblib_test')\n",
    "import os\n",
    "print(\"Current working directory:\", os.getcwd())"
   ]
  },
  {
   "cell_type": "code",
   "execution_count": 82,
   "id": "8fe6b090-2ea7-48c4-8877-fc1c02dfa5ce",
   "metadata": {},
   "outputs": [],
   "source": [
    "from tkinter import *"
   ]
  },
  {
   "cell_type": "code",
   "execution_count": 83,
   "id": "4e2cbd96-2a12-4e65-a615-15102e64eda6",
   "metadata": {},
   "outputs": [],
   "source": [
    "import joblib"
   ]
  },
  {
   "cell_type": "code",
   "execution_count": 84,
   "id": "3452664e-87c5-4a1f-9400-227cce52d7ee",
   "metadata": {},
   "outputs": [],
   "source": [
    "import joblib\n",
    "from tkinter import Tk, Label, Entry, Button\n",
    "\n",
    "def show_entry():\n",
    "    p1 = float(el.get())\n",
    "    # Instead of directly converting to float\n",
    "    gender = e2.get()\n",
    "    if gender == \"Male\":\n",
    "     p2 = 1.0  # or whatever numeric encoding you're using in your model\n",
    "    elif gender == \"Female\":\n",
    "     p2 = 0.0\n",
    "    else:\n",
    "     p2 = 2.0  # for other possible values\n",
    "    p3 = float(e3.get()) \n",
    "    p4 = float(e4.get())\n",
    "    # For line 16 in show_entry function\n",
    "    response = e5.get()\n",
    "    if response == \"Yes\":\n",
    "     p5 = 1.0\n",
    "    elif response == \"No\":\n",
    "     p5 = 0.0\n",
    "    else:\n",
    "     p5 = 0.0  # Default value\n",
    "    p5 = float(e5.get())\n",
    "    p6 = float(eb.get())\n",
    "    model = joblib.load('model_joblib_test') \n",
    "    result = model.predict([[p1, p2, p3, p4, p5, p6]])\n",
    "    \n",
    "    Label(master, text=\"Insurance Cost\").grid(row=7) \n",
    "    Label(master, text=result).grid(row=8)\n",
    "\n",
    "master = Tk()\n",
    "master.title(\"Insurance Cost Prediction\")\n",
    "\n",
    "Label(master, text=\"Insurance Cost Prediction\", bg=\"black\", fg=\"white\").grid(row=0, columnspan=2)\n",
    "Label(master, text=\"Enter Your Age\").grid(row=1)\n",
    "Label(master, text=\"Male Or Female [1/0]\").grid(row=2)\n",
    "Label(master, text=\"Enter Your BMI Value\").grid(row=3)\n",
    "Label(master, text=\"Enter Number of Children\").grid(row=4)\n",
    "Label(master, text=\"Smoker Yes/No [1/0]\").grid(row=5)\n",
    "Label(master, text=\"Region [1-4]\").grid(row=6)\n",
    "\n",
    "el = Entry(master)\n",
    "e2 = Entry(master)\n",
    "e3 = Entry(master)\n",
    "e4 = Entry(master)\n",
    "e5 = Entry(master)\n",
    "eb = Entry(master)  \n",
    "\n",
    "el.grid(row=1, column=1)\n",
    "e2.grid(row=2, column=1)\n",
    "e3.grid(row=3, column=1)\n",
    "e4.grid(row=4, column=1) \n",
    "e5.grid(row=5, column=1)\n",
    "eb.grid(row=6, column=1) \n",
    "\n",
    "Button(master, text=\"Predict\", command=show_entry).grid()\n",
    "\n",
    "master.mainloop()"
   ]
  },
  {
   "cell_type": "code",
   "execution_count": null,
   "id": "ece6c60f-6a1d-4692-ba29-2a008538903a",
   "metadata": {},
   "outputs": [],
   "source": []
  }
 ],
 "metadata": {
  "kernelspec": {
   "display_name": "Python 3 (ipykernel)",
   "language": "python",
   "name": "python3"
  },
  "language_info": {
   "codemirror_mode": {
    "name": "ipython",
    "version": 3
   },
   "file_extension": ".py",
   "mimetype": "text/x-python",
   "name": "python",
   "nbconvert_exporter": "python",
   "pygments_lexer": "ipython3",
   "version": "3.12.6"
  }
 },
 "nbformat": 4,
 "nbformat_minor": 5
}
